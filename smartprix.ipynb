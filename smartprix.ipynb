{
 "cells": [
  {
   "cell_type": "code",
   "execution_count": 1,
   "id": "674b7f70",
   "metadata": {},
   "outputs": [],
   "source": [
    "import time\n",
    "from selenium import webdriver\n",
    "from selenium.webdriver.chrome.service import Service\n",
    "from selenium.webdriver.common.by import By\n",
    "from selenium.webdriver.common.keys import Keys"
   ]
  },
  {
   "cell_type": "code",
   "execution_count": 2,
   "id": "492e9e4a",
   "metadata": {},
   "outputs": [],
   "source": [
    "s = Service('C:/Users/HITESH/Desktop/chromedriver.exe')\n",
    "\n",
    "driver = webdriver.Chrome(service = s)"
   ]
  },
  {
   "cell_type": "code",
   "execution_count": 3,
   "id": "d9a2e0fa",
   "metadata": {},
   "outputs": [],
   "source": [
    "driver.get('https://www.smartprix.com/mobiles')\n",
    "time.sleep(1)"
   ]
  },
  {
   "cell_type": "code",
   "execution_count": 4,
   "id": "f449dbe3",
   "metadata": {},
   "outputs": [],
   "source": [
    "driver.find_element(by=By.XPATH, value='//*[@id=\"app\"]/main/aside/div/div[5]/div[2]/label[1]/input').click()\n",
    "driver.find_element(by=By.XPATH, value='//*[@id=\"app\"]/main/aside/div/div[5]/div[2]/label[2]/input').click()\n",
    "time.sleep(2)"
   ]
  },
  {
   "cell_type": "code",
   "execution_count": 5,
   "id": "d14b2134",
   "metadata": {},
   "outputs": [],
   "source": [
    "driver.find_element(by=By.XPATH,value='//*[@id=\"app\"]/main/div[1]/div[2]/div[3]').click()"
   ]
  },
  {
   "cell_type": "code",
   "execution_count": 6,
   "id": "48f8eb64",
   "metadata": {},
   "outputs": [],
   "source": [
    "old_height = driver.execute_script('return document.body.scrollHeight')\n",
    "\n",
    "while True:\n",
    "    driver.find_element(by=By.XPATH,value='//*[@id=\"app\"]/main/div[1]/div[2]/div[3]').click()\n",
    "    time.sleep(1)\n",
    "    new_height = driver.execute_script('return document.body.scrollHeight')\n",
    "    time.sleep(5)\n",
    "    if new_height == old_height:\n",
    "        break\n",
    "        \n",
    "    old_height = new_height"
   ]
  },
  {
   "cell_type": "code",
   "execution_count": 25,
   "id": "3f83fe62",
   "metadata": {},
   "outputs": [],
   "source": [
    "html = driver.page_source\n",
    "with open('smartprix.html', 'w', encoding='utf -8') as f:\n",
    "    f.write(html)"
   ]
  },
  {
   "cell_type": "code",
   "execution_count": null,
   "id": "2e2398e7",
   "metadata": {},
   "outputs": [],
   "source": []
  },
  {
   "cell_type": "code",
   "execution_count": null,
   "id": "cf31b306",
   "metadata": {},
   "outputs": [],
   "source": []
  },
  {
   "cell_type": "code",
   "execution_count": null,
   "id": "2c7e0fcc",
   "metadata": {},
   "outputs": [],
   "source": []
  },
  {
   "cell_type": "code",
   "execution_count": null,
   "id": "2bb339ee",
   "metadata": {},
   "outputs": [],
   "source": []
  },
  {
   "cell_type": "code",
   "execution_count": null,
   "id": "9ded7511",
   "metadata": {},
   "outputs": [],
   "source": []
  },
  {
   "cell_type": "code",
   "execution_count": null,
   "id": "a97a7010",
   "metadata": {},
   "outputs": [],
   "source": []
  },
  {
   "cell_type": "code",
   "execution_count": null,
   "id": "544d99fe",
   "metadata": {},
   "outputs": [],
   "source": []
  },
  {
   "cell_type": "code",
   "execution_count": null,
   "id": "0da667a8",
   "metadata": {},
   "outputs": [],
   "source": []
  },
  {
   "cell_type": "code",
   "execution_count": null,
   "id": "9104ca56",
   "metadata": {},
   "outputs": [],
   "source": []
  },
  {
   "cell_type": "code",
   "execution_count": null,
   "id": "a0ecc443",
   "metadata": {},
   "outputs": [],
   "source": []
  }
 ],
 "metadata": {
  "kernelspec": {
   "display_name": "Python 3 (ipykernel)",
   "language": "python",
   "name": "python3"
  },
  "language_info": {
   "codemirror_mode": {
    "name": "ipython",
    "version": 3
   },
   "file_extension": ".py",
   "mimetype": "text/x-python",
   "name": "python",
   "nbconvert_exporter": "python",
   "pygments_lexer": "ipython3",
   "version": "3.9.12"
  }
 },
 "nbformat": 4,
 "nbformat_minor": 5
}
